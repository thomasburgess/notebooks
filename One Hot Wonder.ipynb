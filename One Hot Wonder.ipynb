{
 "cells": [
  {
   "cell_type": "markdown",
   "metadata": {},
   "source": [
    "# One hot encoding in Pandas and scikit learn\n",
    "\n",
    "The task at hand is to modify one column with categorical data to n_categories-1 columns with booleans matching the given categories. It is quite easy to do, and there are heaps of implementations. Here I put pandas `get_dummies` versus `sklearn.preprocessing` `OneHotEncoder` and `LabelEncoder` to see which performs better for my applications."
   ]
  },
  {
   "cell_type": "markdown",
   "metadata": {},
   "source": [
    "## Environment\n",
    "### Imports"
   ]
  },
  {
   "cell_type": "code",
   "execution_count": 49,
   "metadata": {
    "ExecuteTime": {
     "end_time": "2018-11-27T09:56:12.043284Z",
     "start_time": "2018-11-27T09:56:11.865355Z"
    }
   },
   "outputs": [],
   "source": [
    "import random\n",
    "import sklearn\n",
    "import pandas as pd\n",
    "import numpy as np\n",
    "import matplotlib.pyplot as plt\n",
    "import seaborn as sns\n",
    "from IPython.display import display, HTML\n",
    "from sklearn.preprocessing import OneHotEncoder\n",
    "from sklearn.preprocessing import LabelBinarizer"
   ]
  },
  {
   "cell_type": "code",
   "execution_count": 40,
   "metadata": {
    "ExecuteTime": {
     "end_time": "2018-11-27T09:51:38.291015Z",
     "start_time": "2018-11-27T09:51:38.284074Z"
    }
   },
   "outputs": [],
   "source": [
    "%matplotlib inline"
   ]
  },
  {
   "cell_type": "markdown",
   "metadata": {},
   "source": [
    "### Helpers"
   ]
  },
  {
   "cell_type": "code",
   "execution_count": 25,
   "metadata": {
    "ExecuteTime": {
     "end_time": "2018-11-27T09:29:27.533508Z",
     "start_time": "2018-11-27T09:29:27.529227Z"
    }
   },
   "outputs": [],
   "source": [
    "def show(df):\n",
    "    \"\"\"Pretty print data frame `df`\"\"\"\n",
    "    display(HTML(df.to_html()))"
   ]
  },
  {
   "cell_type": "code",
   "execution_count": 26,
   "metadata": {
    "ExecuteTime": {
     "end_time": "2018-11-27T09:29:27.861168Z",
     "start_time": "2018-11-27T09:29:27.856940Z"
    }
   },
   "outputs": [],
   "source": [
    "def fuse_cols(df_source, df_onehot, column):\n",
    "    \"\"\"Replace df_source column `column` with `df_onehot` columns\"\"\"\n",
    "    return pd.concat((\n",
    "        df_source.drop(column, axis=1), df_onehot), axis=1)"
   ]
  },
  {
   "cell_type": "code",
   "execution_count": 28,
   "metadata": {
    "ExecuteTime": {
     "end_time": "2018-11-27T09:29:29.065940Z",
     "start_time": "2018-11-27T09:29:29.062022Z"
    }
   },
   "outputs": [],
   "source": [
    "def dummy_data(n):\n",
    "    \"\"\"Generate dummy data\"\"\"\n",
    "    x = []\n",
    "    for i in range(n):\n",
    "        x.append({\n",
    "            \"x\" : random.choice([\"a\", \"b\", \"c\", \"d\"]),\n",
    "            \"y\" : i % 10})\n",
    "    return pd.DataFrame(x)"
   ]
  },
  {
   "cell_type": "markdown",
   "metadata": {
    "ExecuteTime": {
     "end_time": "2018-11-27T09:31:44.441532Z",
     "start_time": "2018-11-27T09:31:44.439404Z"
    }
   },
   "source": [
    "## Test encoders\n",
    "### One Hot Encoder wrappers\n",
    "These functions are intended to produce the same one hot enoded output"
   ]
  },
  {
   "cell_type": "code",
   "execution_count": 27,
   "metadata": {
    "ExecuteTime": {
     "end_time": "2018-11-27T09:29:28.292204Z",
     "start_time": "2018-11-27T09:29:28.278633Z"
    }
   },
   "outputs": [],
   "source": [
    "def onehot_OHE(df, column):\n",
    "    \"\"\"One hot with sklearn.preprocessing.OneHotEncoder\"\"\"\n",
    "    oh = OneHotEncoder(sparse=False, dtype=bool)\n",
    "    x = oh.fit_transform(df[column].values[:, None])[:, 1:]\n",
    "    cols = [f\"{column}_{c}\" for c in oh.categories_[0][1:]]\n",
    "    return fuse_cols(df, pd.DataFrame(x, columns=cols), column)\n",
    "\n",
    "\n",
    "def onehot_LB(df, column):\n",
    "    \"\"\"One hot with sklearn.preprocessing.LabelBinarizer\"\"\"\n",
    "    lb = LabelBinarizer(sparse_output=False)\n",
    "    x = lb.fit_transform(df[column].values[:, None]).astype(bool)[:, 1:]\n",
    "    cols = [f\"{column}_{c}\" for c in lb.classes_[1:]]\n",
    "    return fuse_cols(df, pd.DataFrame(x, columns=cols), column)\n",
    "\n",
    "\n",
    "def onehot_LB(df, column):\n",
    "    \"\"\"One hot with pd.get_dummies\"\"\"\n",
    "    x = pd.get_dummies(\n",
    "        df[column], dtype=bool, sparse=False, drop_first=True, prefix=column)\n",
    "    return fuse_cols(df, x, column)"
   ]
  },
  {
   "cell_type": "markdown",
   "metadata": {},
   "source": [
    "### Verify functions give the same output"
   ]
  },
  {
   "cell_type": "code",
   "execution_count": 32,
   "metadata": {
    "ExecuteTime": {
     "end_time": "2018-11-27T09:34:26.774259Z",
     "start_time": "2018-11-27T09:34:26.746369Z"
    }
   },
   "outputs": [
    {
     "name": "stdout",
     "output_type": "stream",
     "text": [
      "Input\n"
     ]
    },
    {
     "data": {
      "text/html": [
       "<table border=\"1\" class=\"dataframe\">\n",
       "  <thead>\n",
       "    <tr style=\"text-align: right;\">\n",
       "      <th></th>\n",
       "      <th>x</th>\n",
       "      <th>y</th>\n",
       "    </tr>\n",
       "  </thead>\n",
       "  <tbody>\n",
       "    <tr>\n",
       "      <th>0</th>\n",
       "      <td>a</td>\n",
       "      <td>0</td>\n",
       "    </tr>\n",
       "    <tr>\n",
       "      <th>1</th>\n",
       "      <td>d</td>\n",
       "      <td>1</td>\n",
       "    </tr>\n",
       "    <tr>\n",
       "      <th>2</th>\n",
       "      <td>d</td>\n",
       "      <td>2</td>\n",
       "    </tr>\n",
       "    <tr>\n",
       "      <th>3</th>\n",
       "      <td>b</td>\n",
       "      <td>3</td>\n",
       "    </tr>\n",
       "    <tr>\n",
       "      <th>4</th>\n",
       "      <td>d</td>\n",
       "      <td>4</td>\n",
       "    </tr>\n",
       "  </tbody>\n",
       "</table>"
      ],
      "text/plain": [
       "<IPython.core.display.HTML object>"
      ]
     },
     "metadata": {},
     "output_type": "display_data"
    },
    {
     "name": "stdout",
     "output_type": "stream",
     "text": [
      "OneHotEncoder\n"
     ]
    },
    {
     "data": {
      "text/html": [
       "<table border=\"1\" class=\"dataframe\">\n",
       "  <thead>\n",
       "    <tr style=\"text-align: right;\">\n",
       "      <th></th>\n",
       "      <th>y</th>\n",
       "      <th>x_b</th>\n",
       "      <th>x_c</th>\n",
       "      <th>x_d</th>\n",
       "    </tr>\n",
       "  </thead>\n",
       "  <tbody>\n",
       "    <tr>\n",
       "      <th>0</th>\n",
       "      <td>0</td>\n",
       "      <td>False</td>\n",
       "      <td>False</td>\n",
       "      <td>False</td>\n",
       "    </tr>\n",
       "    <tr>\n",
       "      <th>1</th>\n",
       "      <td>1</td>\n",
       "      <td>False</td>\n",
       "      <td>False</td>\n",
       "      <td>True</td>\n",
       "    </tr>\n",
       "    <tr>\n",
       "      <th>2</th>\n",
       "      <td>2</td>\n",
       "      <td>False</td>\n",
       "      <td>False</td>\n",
       "      <td>True</td>\n",
       "    </tr>\n",
       "    <tr>\n",
       "      <th>3</th>\n",
       "      <td>3</td>\n",
       "      <td>True</td>\n",
       "      <td>False</td>\n",
       "      <td>False</td>\n",
       "    </tr>\n",
       "    <tr>\n",
       "      <th>4</th>\n",
       "      <td>4</td>\n",
       "      <td>False</td>\n",
       "      <td>False</td>\n",
       "      <td>True</td>\n",
       "    </tr>\n",
       "  </tbody>\n",
       "</table>"
      ],
      "text/plain": [
       "<IPython.core.display.HTML object>"
      ]
     },
     "metadata": {},
     "output_type": "display_data"
    },
    {
     "name": "stdout",
     "output_type": "stream",
     "text": [
      "LabelBinarizer\n"
     ]
    },
    {
     "data": {
      "text/html": [
       "<table border=\"1\" class=\"dataframe\">\n",
       "  <thead>\n",
       "    <tr style=\"text-align: right;\">\n",
       "      <th></th>\n",
       "      <th>y</th>\n",
       "      <th>x_b</th>\n",
       "      <th>x_c</th>\n",
       "      <th>x_d</th>\n",
       "    </tr>\n",
       "  </thead>\n",
       "  <tbody>\n",
       "    <tr>\n",
       "      <th>0</th>\n",
       "      <td>0</td>\n",
       "      <td>False</td>\n",
       "      <td>False</td>\n",
       "      <td>False</td>\n",
       "    </tr>\n",
       "    <tr>\n",
       "      <th>1</th>\n",
       "      <td>1</td>\n",
       "      <td>False</td>\n",
       "      <td>False</td>\n",
       "      <td>True</td>\n",
       "    </tr>\n",
       "    <tr>\n",
       "      <th>2</th>\n",
       "      <td>2</td>\n",
       "      <td>False</td>\n",
       "      <td>False</td>\n",
       "      <td>True</td>\n",
       "    </tr>\n",
       "    <tr>\n",
       "      <th>3</th>\n",
       "      <td>3</td>\n",
       "      <td>True</td>\n",
       "      <td>False</td>\n",
       "      <td>False</td>\n",
       "    </tr>\n",
       "    <tr>\n",
       "      <th>4</th>\n",
       "      <td>4</td>\n",
       "      <td>False</td>\n",
       "      <td>False</td>\n",
       "      <td>True</td>\n",
       "    </tr>\n",
       "  </tbody>\n",
       "</table>"
      ],
      "text/plain": [
       "<IPython.core.display.HTML object>"
      ]
     },
     "metadata": {},
     "output_type": "display_data"
    },
    {
     "name": "stdout",
     "output_type": "stream",
     "text": [
      "pd.get_dummies\n"
     ]
    },
    {
     "data": {
      "text/html": [
       "<table border=\"1\" class=\"dataframe\">\n",
       "  <thead>\n",
       "    <tr style=\"text-align: right;\">\n",
       "      <th></th>\n",
       "      <th>y</th>\n",
       "      <th>x_b</th>\n",
       "      <th>x_c</th>\n",
       "      <th>x_d</th>\n",
       "    </tr>\n",
       "  </thead>\n",
       "  <tbody>\n",
       "    <tr>\n",
       "      <th>0</th>\n",
       "      <td>0</td>\n",
       "      <td>False</td>\n",
       "      <td>False</td>\n",
       "      <td>False</td>\n",
       "    </tr>\n",
       "    <tr>\n",
       "      <th>1</th>\n",
       "      <td>1</td>\n",
       "      <td>False</td>\n",
       "      <td>False</td>\n",
       "      <td>True</td>\n",
       "    </tr>\n",
       "    <tr>\n",
       "      <th>2</th>\n",
       "      <td>2</td>\n",
       "      <td>False</td>\n",
       "      <td>False</td>\n",
       "      <td>True</td>\n",
       "    </tr>\n",
       "    <tr>\n",
       "      <th>3</th>\n",
       "      <td>3</td>\n",
       "      <td>True</td>\n",
       "      <td>False</td>\n",
       "      <td>False</td>\n",
       "    </tr>\n",
       "    <tr>\n",
       "      <th>4</th>\n",
       "      <td>4</td>\n",
       "      <td>False</td>\n",
       "      <td>False</td>\n",
       "      <td>True</td>\n",
       "    </tr>\n",
       "  </tbody>\n",
       "</table>"
      ],
      "text/plain": [
       "<IPython.core.display.HTML object>"
      ]
     },
     "metadata": {},
     "output_type": "display_data"
    }
   ],
   "source": [
    "test_df = dummy_data(20)\n",
    "print(\"Input\")\n",
    "show(test_df.head())\n",
    "print(\"OneHotEncoder\")\n",
    "show(onehot_OHE(test_df, \"x\").head())\n",
    "print(\"LabelBinarizer\")\n",
    "show(onehot_LB(test_df, \"x\").head())\n",
    "print(\"pd.get_dummies\")\n",
    "show(onehot_LB(test_df, \"x\").head())"
   ]
  },
  {
   "cell_type": "markdown",
   "metadata": {},
   "source": [
    "Looking good!\n",
    "### Perform tests with increasing sample size"
   ]
  },
  {
   "cell_type": "code",
   "execution_count": 33,
   "metadata": {
    "ExecuteTime": {
     "end_time": "2018-11-27T09:45:30.971851Z",
     "start_time": "2018-11-27T09:36:51.717761Z"
    }
   },
   "outputs": [
    {
     "name": "stdout",
     "output_type": "stream",
     "text": [
      "Processing n=10\n",
      "OneHotEncoder\n",
      "1.24 ms ± 26.8 µs per loop (mean ± std. dev. of 7 runs, 1000 loops each)\n",
      "LabelBinarizer\n",
      "1.27 ms ± 34.8 µs per loop (mean ± std. dev. of 7 runs, 1000 loops each)\n",
      "pd.get_dummies\n",
      "1.44 ms ± 362 µs per loop (mean ± std. dev. of 7 runs, 1000 loops each)\n",
      "Processing n=100\n",
      "OneHotEncoder\n",
      "1.34 ms ± 32 µs per loop (mean ± std. dev. of 7 runs, 1000 loops each)\n",
      "LabelBinarizer\n",
      "1.39 ms ± 32.9 µs per loop (mean ± std. dev. of 7 runs, 1000 loops each)\n",
      "pd.get_dummies\n",
      "1.32 ms ± 187 µs per loop (mean ± std. dev. of 7 runs, 1000 loops each)\n",
      "Processing n=1000\n",
      "OneHotEncoder\n",
      "1.45 ms ± 49.2 µs per loop (mean ± std. dev. of 7 runs, 1000 loops each)\n",
      "LabelBinarizer\n",
      "3.01 ms ± 56.7 µs per loop (mean ± std. dev. of 7 runs, 100 loops each)\n",
      "pd.get_dummies\n",
      "1.89 ms ± 662 µs per loop (mean ± std. dev. of 7 runs, 1000 loops each)\n",
      "Processing n=10000\n",
      "OneHotEncoder\n",
      "4.13 ms ± 447 µs per loop (mean ± std. dev. of 7 runs, 100 loops each)\n",
      "LabelBinarizer\n",
      "26 ms ± 1.67 ms per loop (mean ± std. dev. of 7 runs, 10 loops each)\n",
      "pd.get_dummies\n",
      "1.75 ms ± 94 µs per loop (mean ± std. dev. of 7 runs, 1000 loops each)\n",
      "Processing n=100000\n",
      "OneHotEncoder\n",
      "27.1 ms ± 5.16 ms per loop (mean ± std. dev. of 7 runs, 10 loops each)\n",
      "LabelBinarizer\n",
      "296 ms ± 16.7 ms per loop (mean ± std. dev. of 7 runs, 1 loop each)\n",
      "pd.get_dummies\n",
      "5.48 ms ± 39.4 µs per loop (mean ± std. dev. of 7 runs, 100 loops each)\n",
      "Processing n=1000000\n",
      "OneHotEncoder\n",
      "257 ms ± 58.9 ms per loop (mean ± std. dev. of 7 runs, 1 loop each)\n",
      "LabelBinarizer\n",
      "3.48 s ± 256 ms per loop (mean ± std. dev. of 7 runs, 1 loop each)\n",
      "pd.get_dummies\n",
      "49.1 ms ± 603 µs per loop (mean ± std. dev. of 7 runs, 10 loops each)\n",
      "Processing n=10000000\n",
      "OneHotEncoder\n",
      "2.17 s ± 178 ms per loop (mean ± std. dev. of 7 runs, 1 loop each)\n",
      "LabelBinarizer\n",
      "38.3 s ± 615 ms per loop (mean ± std. dev. of 7 runs, 1 loop each)\n",
      "pd.get_dummies\n",
      "516 ms ± 47.4 ms per loop (mean ± std. dev. of 7 runs, 1 loop each)\n"
     ]
    }
   ],
   "source": [
    "# Will take a few mins, have a coffee break :)\n",
    "test_data = {10**i: dummy_data(10**i) for i in range(1, 8)}\n",
    "for n, test_df in test_data.items():\n",
    "    print(f\"Processing n={n}\")\n",
    "    print(\"OneHotEncoder\")\n",
    "    %timeit onehot_OHE(test_df, \"x\")\n",
    "    print(\"LabelBinarizer\")\n",
    "    %timeit onehot_LB(test_df, \"x\")\n",
    "    print(\"pd.get_dummies\")\n",
    "    %timeit onehot_PD(test_df, \"x\")"
   ]
  },
  {
   "cell_type": "code",
   "execution_count": 57,
   "metadata": {
    "ExecuteTime": {
     "end_time": "2018-11-27T10:00:54.068564Z",
     "start_time": "2018-11-27T10:00:53.402990Z"
    }
   },
   "outputs": [
    {
     "data": {
      "image/png": "[encoded data removed]",
      "text/plain": [
       "<Figure size 432x288 with 1 Axes>"
      ]
     },
     "metadata": {
      "needs_background": "light"
     },
     "output_type": "display_data"
    }
   ],
   "source": [
    "stats = pd.DataFrame([\n",
    "    [10, 1.24, 1.27, 1.44],\n",
    "    [100, 1.34, 1.39, 1.32],\n",
    "    [1000, 1.45, 3.01, 1.89],\n",
    "    [10000, 4.13, 26, 1.75],\n",
    "    [100000, 27.1, 296, 5.48],\n",
    "    [1000000, 257, 3480, 49.1],\n",
    "    [10000000, 2170, 38300, 516]],\n",
    "    columns=[\"n\", \"OneHotEncoder\", \"LabelBinarizer\", \"pd.get_dummies\"])\n",
    "stats.set_index(\"n\", inplace=True)\n",
    "ax = sns.scatterplot(data=stats)\n",
    "ax.set_xscale('log')\n",
    "ax.set_yscale('log')\n",
    "ax.set_ylabel(\"Time per loop (ms)\");"
   ]
  },
  {
   "cell_type": "markdown",
   "metadata": {},
   "source": [
    "Clearly `LabelBinarizer` suffers with large data, but so does the `OneHotEncoder`, above 100 entries it seems the pandas method is preferable. I suspect this is mainly because of my requirement of getting a fused data frame out of the process."
   ]
  }
 ],
 "metadata": {
  "kernelspec": {
   "display_name": "Python 3",
   "language": "python",
   "name": "python3"
  },
  "language_info": {
   "codemirror_mode": {
    "name": "ipython",
    "version": 3
   },
   "file_extension": ".py",
   "mimetype": "text/x-python",
   "name": "python",
   "nbconvert_exporter": "python",
   "pygments_lexer": "ipython3",
   "version": "3.7.1"
  },
  "toc": {
   "base_numbering": 1,
   "nav_menu": {},
   "number_sections": true,
   "sideBar": true,
   "skip_h1_title": false,
   "title_cell": "Table of Contents",
   "title_sidebar": "Contents",
   "toc_cell": false,
   "toc_position": {},
   "toc_section_display": true,
   "toc_window_display": false
  },
  "varInspector": {
   "cols": {
    "lenName": 16,
    "lenType": 16,
    "lenVar": 40
   },
   "kernels_config": {
    "python": {
     "delete_cmd_postfix": "",
     "delete_cmd_prefix": "del ",
     "library": "var_list.py",
     "varRefreshCmd": "print(var_dic_list())"
    },
    "r": {
     "delete_cmd_postfix": ") ",
     "delete_cmd_prefix": "rm(",
     "library": "var_list.r",
     "varRefreshCmd": "cat(var_dic_list()) "
    }
   },
   "types_to_exclude": [
    "module",
    "function",
    "builtin_function_or_method",
    "instance",
    "_Feature"
   ],
   "window_display": false
  }
 },
 "nbformat": 4,
 "nbformat_minor": 2
}
