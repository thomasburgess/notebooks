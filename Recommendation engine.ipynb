{
 "cells": [
  {
   "cell_type": "markdown",
   "metadata": {
    "toc": true
   },
   "source": [
    "<h1>Table of Contents<span class=\"tocSkip\"></span></h1>\n",
    "<div class=\"toc\"><ul class=\"toc-item\"><li><span><a href=\"#Recommendation-Engine\" data-toc-modified-id=\"Recommendation-Engine-1\"><span class=\"toc-item-num\">1&nbsp;&nbsp;</span>Recommendation Engine</a></span><ul class=\"toc-item\"><li><span><a href=\"#Distance-functions\" data-toc-modified-id=\"Distance-functions-1.1\"><span class=\"toc-item-num\">1.1&nbsp;&nbsp;</span>Distance functions</a></span></li><li><span><a href=\"#Nearest-neighbors\" data-toc-modified-id=\"Nearest-neighbors-1.2\"><span class=\"toc-item-num\">1.2&nbsp;&nbsp;</span>Nearest neighbors</a></span></li><li><span><a href=\"#Recommendation-function\" data-toc-modified-id=\"Recommendation-function-1.3\"><span class=\"toc-item-num\">1.3&nbsp;&nbsp;</span>Recommendation function</a></span></li><li><span><a href=\"#Weighted-k-nearest-neighbors\" data-toc-modified-id=\"Weighted-k-nearest-neighbors-1.4\"><span class=\"toc-item-num\">1.4&nbsp;&nbsp;</span>Weighted k nearest neighbors</a></span></li></ul></li><li><span><a href=\"#Book-recommendations---Real-world-example\" data-toc-modified-id=\"Book-recommendations---Real-world-example-2\"><span class=\"toc-item-num\">2&nbsp;&nbsp;</span>Book recommendations - Real world example</a></span><ul class=\"toc-item\"><li><span><a href=\"#Environment\" data-toc-modified-id=\"Environment-2.1\"><span class=\"toc-item-num\">2.1&nbsp;&nbsp;</span>Environment</a></span></li><li><span><a href=\"#Wrangle-dataset\" data-toc-modified-id=\"Wrangle-dataset-2.2\"><span class=\"toc-item-num\">2.2&nbsp;&nbsp;</span>Wrangle dataset</a></span></li><li><span><a href=\"#Test-recommendation-engine\" data-toc-modified-id=\"Test-recommendation-engine-2.3\"><span class=\"toc-item-num\">2.3&nbsp;&nbsp;</span>Test recommendation engine</a></span></li></ul></li></ul></div>"
   ]
  },
  {
   "cell_type": "markdown",
   "metadata": {
    "ExecuteTime": {
     "end_time": "2018-11-09T14:54:39.047126Z",
     "start_time": "2018-11-09T14:54:39.043872Z"
    }
   },
   "source": [
    "# Recommendation Engine"
   ]
  },
  {
   "cell_type": "markdown",
   "metadata": {},
   "source": [
    "This is my learnings from following [A Programmer's Guide to Data Mining](http://guidetodatamining.com/), warmly recommended.\n",
    "\n",
    "The first goal of this project is to figure out who is similar to who.\n",
    "We start with some dummy data, these are users with a dictionary of titles and rating."
   ]
  },
  {
   "cell_type": "code",
   "execution_count": 1,
   "metadata": {
    "ExecuteTime": {
     "end_time": "2018-11-10T20:50:04.484817Z",
     "start_time": "2018-11-10T20:50:04.477517Z"
    }
   },
   "outputs": [],
   "source": [
    "users = {\n",
    "    \"Angelica\": {\"Blues Traveler\": 3.5, \"Broken Bells\": 2.0, \"Norah Jones\": 4.5, \"Phoenix\": 5.0, \"Slightly Stoopid\": 1.5, \"The Strokes\": 2.5, \"Vampire Weekend\": 2.0},\n",
    "    \"Bill\": {\"Blues Traveler\": 2.0, \"Broken Bells\": 3.5, \"Deadmau5\": 4.0, \"Phoenix\": 2.0, \"Slightly Stoopid\": 3.5, \"Vampire Weekend\": 3.0},\n",
    "    \"Chan\": {\"Blues Traveler\": 5.0, \"Broken Bells\": 1.0, \"Deadmau5\": 1.0, \"Norah Jones\": 3.0, \"Phoenix\": 5, \"Slightly Stoopid\": 1.0},\n",
    "    \"Dan\": {\"Blues Traveler\": 3.0, \"Broken Bells\": 4.0, \"Deadmau5\": 4.5, \"Phoenix\": 3.0, \"Slightly Stoopid\": 4.5, \"The Strokes\": 4.0, \"Vampire Weekend\": 2.0},\n",
    "    \"Hailey\": {\"Broken Bells\": 4.0, \"Deadmau5\": 1.0, \"Norah Jones\": 4.0, \"The Strokes\": 4.0, \"Vampire Weekend\": 1.0},\n",
    "    \"Jordyn\":  {\"Broken Bells\": 4.5, \"Deadmau5\": 4.0, \"Norah Jones\": 5.0, \"Phoenix\": 5.0, \"Slightly Stoopid\": 4.5, \"The Strokes\": 4.0, \"Vampire Weekend\": 4.0},\n",
    "    \"Sam\": {\"Blues Traveler\": 5.0, \"Broken Bells\": 2.0, \"Norah Jones\": 3.0, \"Phoenix\": 5.0, \"Slightly Stoopid\": 4.0, \"The Strokes\": 5.0},\n",
    "    \"Veronica\": {\"Blues Traveler\": 3.0, \"Norah Jones\": 5.0, \"Phoenix\": 4.0, \"Slightly Stoopid\": 2.5, \"The Strokes\": 3.0}\n",
    "}"
   ]
  },
  {
   "cell_type": "markdown",
   "metadata": {},
   "source": [
    "## Distance functions\n",
    "Let's add some typical distance functions: \n",
    "[Minkowski distance](https://en.wikipedia.org/wiki/Minkowski_distance), \n",
    "[Pearson correlation](https://en.wikipedia.org/wiki/Pearson_correlation_coefficient),\n",
    "and [cosine similarity](https://en.wikipedia.org/wiki/Cosine_similarity).\n",
    "Note that the latter two needs to be negated to act as a distance!"
   ]
  },
  {
   "cell_type": "code",
   "execution_count": 2,
   "metadata": {
    "ExecuteTime": {
     "end_time": "2018-11-10T20:50:04.490943Z",
     "start_time": "2018-11-10T20:50:04.486800Z"
    }
   },
   "outputs": [],
   "source": [
    "def minkowski_distance(a, b, p=1):\n",
    "    \"\"\"\n",
    "    Get distance between overlapping members of dicts a and b\n",
    "    using minkowski distance of power p\n",
    "    p=1 manhattan\n",
    "    p=2 euclidean\n",
    "    \"\"\"\n",
    "    return sum(abs(a[key] - b[key])**p for key in set(a.keys()).intersection(b.keys()))**(1./p)"
   ]
  },
  {
   "cell_type": "code",
   "execution_count": 3,
   "metadata": {
    "ExecuteTime": {
     "end_time": "2018-11-10T20:50:04.500480Z",
     "start_time": "2018-11-10T20:50:04.493850Z"
    }
   },
   "outputs": [],
   "source": [
    "def pearson_correlation(a, b):\n",
    "    \"\"\"\n",
    "    Get correlation between overlapping members of dicts a and b\n",
    "    \"\"\"\n",
    "    keys = set(a.keys()).intersection(b.keys())\n",
    "    n = float(len(keys))\n",
    "    if n == 0:\n",
    "        return 0\n",
    "    x = [a[k] for k in keys]\n",
    "    y = [b[k] for k in keys]\n",
    "    sx = sum(x)\n",
    "    sy = sum(y)\n",
    "    sx2 = sum(map(lambda x: x * x, x))\n",
    "    sy2 = sum(map(lambda x: x * x, y))\n",
    "    d = ((sx2 - sx * sx / n) * (sy2 - sy * sy / n)) ** 0.5\n",
    "    if d == 0:\n",
    "        return 0\n",
    "    sxy = sum(map(lambda x, y: x * y, x, y))\n",
    "    return (sxy - sx * sy / n) / d"
   ]
  },
  {
   "cell_type": "code",
   "execution_count": 4,
   "metadata": {
    "ExecuteTime": {
     "end_time": "2018-11-10T20:50:04.508572Z",
     "start_time": "2018-11-10T20:50:04.503538Z"
    }
   },
   "outputs": [],
   "source": [
    "def cosine_similarity(a, b):\n",
    "    \"\"\"\n",
    "    Get cosine simuliarty between overlapping members of dicts a and b\n",
    "    a dot b / (|a|*|b|)\n",
    "    \"\"\"\n",
    "    keys = set(a.keys()).intersection(b.keys())\n",
    "    x = [a[k] for k in keys]\n",
    "    y = [b[k] for k in keys]\n",
    "    ax = sum(map(lambda x: x * x, x)) ** 0.5\n",
    "    ay = sum(map(lambda x: x * x, y)) ** 0.5\n",
    "    sxy = sum(map(lambda x, y: x * y, x, y))\n",
    "    return sxy / (ax * ay)"
   ]
  },
  {
   "cell_type": "code",
   "execution_count": 5,
   "metadata": {
    "ExecuteTime": {
     "end_time": "2018-11-10T20:50:04.514780Z",
     "start_time": "2018-11-10T20:50:04.510592Z"
    }
   },
   "outputs": [],
   "source": [
    "# Convenience dictionary\n",
    "DISTANCES = {\n",
    "    \"Manhattan\": lambda x, y: minkowski_distance(x, y, p=1),\n",
    "    \"Euclidean\": lambda x, y: minkowski_distance(x, y, p=2),\n",
    "    \"Pearson\": lambda x, y: 1-pearson_correlation(x, y)*0.5,  # new range [0,2]\n",
    "    \"Cosine\": lambda x, y: 1-cosine_similarity(x, y)  # new range [0,1]\n",
    "}"
   ]
  },
  {
   "cell_type": "markdown",
   "metadata": {},
   "source": [
    "## Nearest neighbors\n",
    "To see how close a user `who` is to any other user we compute the distance sorted nearest neighbors."
   ]
  },
  {
   "cell_type": "code",
   "execution_count": 6,
   "metadata": {
    "ExecuteTime": {
     "end_time": "2018-11-10T20:50:04.521582Z",
     "start_time": "2018-11-10T20:50:04.516945Z"
    }
   },
   "outputs": [],
   "source": [
    "def nearest_neighbors(who, users, distance=DISTANCES[\"Manhattan\"]):\n",
    "    \"\"\"\n",
    "    Get list of neighbors in users sorted by distance\n",
    "    \"\"\"\n",
    "    # Get list of (user, distance) tuples for all other users\n",
    "    neighbors = [\n",
    "        (user, distance(users[who], scores))\n",
    "        for user, scores in users.items() if user != who]\n",
    "    # Sort list inplace and return it\n",
    "    neighbors.sort(key=lambda x: x[1])\n",
    "    return neighbors"
   ]
  },
  {
   "cell_type": "markdown",
   "metadata": {},
   "source": [
    "Let's use this to print the `3` closest users to `Bill` using several different distance estimators."
   ]
  },
  {
   "cell_type": "code",
   "execution_count": 7,
   "metadata": {
    "ExecuteTime": {
     "end_time": "2018-11-10T20:50:04.527881Z",
     "start_time": "2018-11-10T20:50:04.523421Z"
    }
   },
   "outputs": [
    {
     "name": "stdout",
     "output_type": "stream",
     "text": [
      "Manhattan [('Veronica', 3.5), ('Chan', 4.5), ('Hailey', 5.0)]\n",
      "Euclidean [('Veronica', 1.6583123951777), ('Chan', 2.3979157616563596), ('Hailey', 2.7386127875258306)]\n",
      "Pearson [('Veronica', 0.585307011886813), ('Chan', 0.5901088526350293), ('Jordyn', 0.6180125697262284)]\n",
      "Cosine [('Veronica', 0.020936396109991096), ('Chan', 0.04586032801208695), ('Jordyn', 0.06580649324893406)]\n"
     ]
    }
   ],
   "source": [
    "for d, distance in DISTANCES.items():\n",
    "    print(d, nearest_neighbors(\"Angelica\", users, distance=distance)[:3])"
   ]
  },
  {
   "cell_type": "markdown",
   "metadata": {},
   "source": [
    "The various methods actually look quite consistent. \n",
    "## Recommendation function\n",
    "Now we can make a recommendation by finding the titles not in common with nearest neighbor."
   ]
  },
  {
   "cell_type": "code",
   "execution_count": 8,
   "metadata": {
    "ExecuteTime": {
     "end_time": "2018-11-10T20:50:04.535022Z",
     "start_time": "2018-11-10T20:50:04.530201Z"
    }
   },
   "outputs": [],
   "source": [
    "def recommend(user, users, distance=DISTANCES[\"Manhattan\"]):\n",
    "    \"\"\"Give list of recommendations\"\"\"\n",
    "    # first find nearest neighbor\n",
    "    nearest = nearest_neighbors(user, users, distance=distance)[0][0]\n",
    "    # Find ratings that username does not have in common with nearest\n",
    "    recommendations = [\n",
    "        (title, rating) for title, rating in users[nearest].items()\n",
    "        if not title in users[user]]\n",
    "    # Sort by rating and return\n",
    "    recommendations.sort(key=lambda x: x[1], reverse=True)\n",
    "    return recommendations"
   ]
  },
  {
   "cell_type": "markdown",
   "metadata": {},
   "source": [
    "Let's make recommendations for everybody. For now we stick to Pearson correlation distance."
   ]
  },
  {
   "cell_type": "code",
   "execution_count": 9,
   "metadata": {
    "ExecuteTime": {
     "end_time": "2018-11-10T20:50:04.541414Z",
     "start_time": "2018-11-10T20:50:04.537007Z"
    }
   },
   "outputs": [
    {
     "name": "stdout",
     "output_type": "stream",
     "text": [
      "Angelica []\n",
      "Bill [('The Strokes', 4.0)]\n",
      "Chan [('The Strokes', 2.5), ('Vampire Weekend', 2.0)]\n",
      "Dan []\n",
      "Hailey [('Phoenix', 5.0), ('Slightly Stoopid', 4.5)]\n",
      "Jordyn [('Blues Traveler', 5.0)]\n",
      "Sam [('Deadmau5', 1.0)]\n",
      "Veronica [('Broken Bells', 2.0), ('Vampire Weekend', 2.0)]\n"
     ]
    }
   ],
   "source": [
    "for user in users.keys():\n",
    "    print(user, recommend(user, users, distance=DISTANCES[\"Pearson\"]))"
   ]
  },
  {
   "cell_type": "markdown",
   "metadata": {},
   "source": [
    "So from before we know Bill was close to Dan, and the only artist that Dan has that Bill hasn't is `The Strokes` so it gets recommended. This approach appears to be working but it is a little simplistic. "
   ]
  },
  {
   "cell_type": "markdown",
   "metadata": {},
   "source": [
    "## Weighted k nearest neighbors\n",
    "\n",
    "Instead of using the _nearest_ neighbor, it is better to use the nearest K neighbors and weight the rating by distance. This allows non overlapping entries from several users to enter the results, making it less likely to get empty recommendations."
   ]
  },
  {
   "cell_type": "code",
   "execution_count": 10,
   "metadata": {
    "ExecuteTime": {
     "end_time": "2018-11-10T20:50:04.550170Z",
     "start_time": "2018-11-10T20:50:04.543632Z"
    }
   },
   "outputs": [],
   "source": [
    "def recommend_knn(user, users, distance=DISTANCES[\"Pearson\"], k=3):\n",
    "    # first find nearest neighbor\n",
    "    nearest = nearest_neighbors(user, users, distance=distance)[:k]\n",
    "    total_score = sum(s for u, s in nearest)\n",
    "    weighted = [(t, s, r) for u, s in nearest for t, r in users[u].items() if t not in users[user]]\n",
    "    result = {}\n",
    "    for u, s in nearest:\n",
    "        for t, r in users[u].items():\n",
    "            if t not in users[user]:\n",
    "                result[t] = result.get(t, 0) + s * r\n",
    "    return [(k, v/total_score) for k, v in result.items()]"
   ]
  },
  {
   "cell_type": "markdown",
   "metadata": {
    "ExecuteTime": {
     "end_time": "2018-11-09T19:06:24.213959Z",
     "start_time": "2018-11-09T19:06:24.209391Z"
    }
   },
   "source": [
    "Let's try it for all users"
   ]
  },
  {
   "cell_type": "code",
   "execution_count": 11,
   "metadata": {
    "ExecuteTime": {
     "end_time": "2018-11-10T20:50:04.557566Z",
     "start_time": "2018-11-10T20:50:04.552925Z"
    }
   },
   "outputs": [
    {
     "name": "stdout",
     "output_type": "stream",
     "text": [
      "Angelica [('Deadmau5', 1.707433133691678)]\n",
      "Bill [('The Strokes', 4.0), ('Norah Jones', 3.5602724263661094)]\n",
      "Chan [('The Strokes', 3.851226315901307), ('Vampire Weekend', 1.9807176874675074)]\n",
      "Dan [('Norah Jones', 3.3333491927018044)]\n",
      "Hailey [('Phoenix', 5.0), ('Slightly Stoopid', 2.2639282444695232), ('Blues Traveler', 2.9165257815053565)]\n",
      "Jordyn [('Blues Traveler', 3.817271371299083)]\n",
      "Sam [('Deadmau5', 0.6529843410632098), ('Vampire Weekend', 1.097976427537215)]\n",
      "Veronica [('Broken Bells', 2.3398138623569578), ('Vampire Weekend', 1.7729935450797063), ('Deadmau5', 1.624560193517164)]\n"
     ]
    }
   ],
   "source": [
    "for user in users.keys():\n",
    "    print(user, recommend_knn(user, users, distance=DISTANCES[\"Pearson\"], k=3))"
   ]
  },
  {
   "cell_type": "markdown",
   "metadata": {},
   "source": [
    "The resulting recommendations are now not empty for `Dan` and `Angelica`, and most recommendations are longer."
   ]
  },
  {
   "cell_type": "markdown",
   "metadata": {},
   "source": [
    "# Book recommendations - Real world example\n",
    "So let's try to apply this simple recommendation engine to a proper dataset. We will be using the [Book Crossing](http://www.informatik.uni-freiburg.de/~cziegler/BX/) dataset, with a lot of book reviews."
   ]
  },
  {
   "cell_type": "markdown",
   "metadata": {},
   "source": [
    "## Environment\n",
    "For this example we'll make use of more external libraries and helper functions."
   ]
  },
  {
   "cell_type": "code",
   "execution_count": 12,
   "metadata": {
    "ExecuteTime": {
     "end_time": "2018-11-10T20:50:05.450652Z",
     "start_time": "2018-11-10T20:50:04.563243Z"
    }
   },
   "outputs": [],
   "source": [
    "from IPython.display import display, HTML \n",
    "import pandas as pd\n",
    "import seaborn as sns\n",
    "import matplotlib.pyplot as plt"
   ]
  },
  {
   "cell_type": "code",
   "execution_count": 13,
   "metadata": {
    "ExecuteTime": {
     "end_time": "2018-11-10T20:50:05.459188Z",
     "start_time": "2018-11-10T20:50:05.453742Z"
    }
   },
   "outputs": [],
   "source": [
    "# Plotting specifics\n",
    "%matplotlib inline\n",
    "plt.style.use(\"seaborn-poster\") # Better than default plotting style\n",
    "plt.rcParams['figure.figsize'] = (12, 12) # Larger figures\n",
    "sns.set_context(\"poster\")"
   ]
  },
  {
   "cell_type": "code",
   "execution_count": 14,
   "metadata": {
    "ExecuteTime": {
     "end_time": "2018-11-10T20:50:05.466600Z",
     "start_time": "2018-11-10T20:50:05.461341Z"
    }
   },
   "outputs": [],
   "source": [
    "def DF_DISP(df):\n",
    "    \"\"\"Pretty print a dataframe\"\"\"\n",
    "    display(HTML(df.to_html()))\n",
    "def show_cols(name, df):\n",
    "    \"\"\"Show name, length, and list of columns of dataframe\"\"\"\n",
    "    print(\"{}: {} {}\".format(name, len(df.index), list(df.columns)))\n",
    "def show_top_counts(name, df, col):\n",
    "    \"\"\"Print counts of most common values in col\"\"\"\n",
    "    top = df.groupby([col])[[\"count\"]].count().sort_values(by=\"count\", ascending=False)\n",
    "    print(\"Top {}(s) in {} of {} unique\".format(col, name, len(top.index)))\n",
    "    DF_DISP(top.head())"
   ]
  },
  {
   "cell_type": "markdown",
   "metadata": {
    "ExecuteTime": {
     "end_time": "2018-11-10T07:55:43.785870Z",
     "start_time": "2018-11-10T07:55:43.780193Z"
    }
   },
   "source": [
    "## Wrangle dataset\n",
    "I downloaded the `csv` version of the data set and  manually converted the dataset into UTF-8 and gzipped it.\n",
    "Malformed lines are dropped. These are usually due to `&nbsp;` or similar html that adds an extra `;` which otherwise is used as field separator.  Furthermore, duplicate entries are dropped as they don't add anything to the analysis. This treatment has no effect on ratings, very small effect on books, and moderate effect on users. The remaining clean dataset is big enough for what we want to do."
   ]
  },
  {
   "cell_type": "code",
   "execution_count": 15,
   "metadata": {
    "ExecuteTime": {
     "end_time": "2018-11-10T20:50:05.473914Z",
     "start_time": "2018-11-10T20:50:05.468751Z"
    }
   },
   "outputs": [],
   "source": [
    "def read_csv(filename):\n",
    "    df = pd.read_csv(\n",
    "        filename, delimiter=\";\", quotechar=\"\\\"\", error_bad_lines=False, low_memory=False, warn_bad_lines=False)\n",
    "    df.dropna(inplace=True) # remove missing values\n",
    "    df[\"count\"] = 1 # add a count column    \n",
    "    df.drop_duplicates(inplace=True)\n",
    "    return df"
   ]
  },
  {
   "cell_type": "code",
   "execution_count": 16,
   "metadata": {
    "ExecuteTime": {
     "end_time": "2018-11-10T20:50:09.619268Z",
     "start_time": "2018-11-10T20:50:05.475563Z"
    }
   },
   "outputs": [],
   "source": [
    "bx_users = read_csv(\"BX-CSV-Dump/BX-Users.csv.gz\")\n",
    "bx_books = read_csv(\"BX-CSV-Dump/BX-Books.csv.gz\")\n",
    "bx_ratings = read_csv(\"BX-CSV-Dump/BX-Book-Ratings.csv.gz\")"
   ]
  },
  {
   "cell_type": "markdown",
   "metadata": {},
   "source": [
    "Ensure user Age is an int in range 5-100."
   ]
  },
  {
   "cell_type": "code",
   "execution_count": 17,
   "metadata": {
    "ExecuteTime": {
     "end_time": "2018-11-10T20:50:09.641983Z",
     "start_time": "2018-11-10T20:50:09.621113Z"
    }
   },
   "outputs": [],
   "source": [
    "# Force age to be int\n",
    "bx_users[\"Age\"] = bx_users[\"Age\"].astype(int)\n",
    "# Restict range of age\n",
    "bx_users = bx_users[(bx_users[\"Age\"] > 5) & (bx_users[\"Age\"] < 100)]"
   ]
  },
  {
   "cell_type": "markdown",
   "metadata": {},
   "source": [
    "Ensure Book year is int in range 1920-2020, and drop URL columns."
   ]
  },
  {
   "cell_type": "code",
   "execution_count": 18,
   "metadata": {
    "ExecuteTime": {
     "end_time": "2018-11-10T20:50:09.798561Z",
     "start_time": "2018-11-10T20:50:09.643715Z"
    }
   },
   "outputs": [],
   "source": [
    "# Force year as int\n",
    "bx_books[\"Year-Of-Publication\"] = bx_books[\"Year-Of-Publication\"].astype(int)\n",
    "# Restrict publication date\n",
    "bf_books = bx_books[(bx_books[\"Year-Of-Publication\"] > 1920)\n",
    "                    & (bx_books[\"Year-Of-Publication\"] < 2020)]\n",
    "# Drop URL columns\n",
    "bx_books.drop(['Image-URL-S', 'Image-URL-M', 'Image-URL-L'],\n",
    "              inplace=True, axis=1)"
   ]
  },
  {
   "cell_type": "markdown",
   "metadata": {},
   "source": [
    "Ensure book rating is int and a real rating in range 1-10, that ratings have matching user id, and that books have matching rating."
   ]
  },
  {
   "cell_type": "code",
   "execution_count": 19,
   "metadata": {
    "ExecuteTime": {
     "end_time": "2018-11-10T20:50:10.002730Z",
     "start_time": "2018-11-10T20:50:09.800519Z"
    }
   },
   "outputs": [],
   "source": [
    "# Force rating as int\n",
    "bx_ratings[\"Book-Rating\"] = bx_ratings[\"Book-Rating\"].astype(int)\n",
    "# Restrict to ratings 1-10\n",
    "bx_ratings = bx_ratings[(bx_ratings[\"Book-Rating\"] >= 1) & (bx_ratings[\"Book-Rating\"] <= 10)]\n",
    "# Remove any ratings without matching user id\n",
    "bx_ratings = bx_ratings[bx_ratings[\"User-ID\"].isin(bx_users[\"User-ID\"])]\n",
    "# Remove any books without any ratings and any rating without books\n",
    "bx_books = bx_books[bx_books[\"ISBN\"].isin(bx_ratings[\"ISBN\"])]\n",
    "bx_ratings = bx_ratings[bx_ratings[\"ISBN\"].isin(bx_books[\"ISBN\"])]"
   ]
  },
  {
   "cell_type": "code",
   "execution_count": 20,
   "metadata": {
    "ExecuteTime": {
     "end_time": "2018-11-10T20:50:10.102131Z",
     "start_time": "2018-11-10T20:50:10.004602Z"
    }
   },
   "outputs": [],
   "source": [
    "bx_books[\"ISBN\"] = bx_books[\"ISBN\"].astype(str)\n",
    "bx_ratings[\"ISBN\"] = bx_ratings[\"ISBN\"].astype(str)"
   ]
  },
  {
   "cell_type": "markdown",
   "metadata": {},
   "source": [
    "## Test recommendation engine"
   ]
  },
  {
   "cell_type": "code",
   "execution_count": 21,
   "metadata": {
    "ExecuteTime": {
     "end_time": "2018-11-10T20:50:18.682298Z",
     "start_time": "2018-11-10T20:50:10.103953Z"
    }
   },
   "outputs": [],
   "source": [
    "user_ratings = {\n",
    "    g: dict(zip(r[\"ISBN\"].values, r[\"Book-Rating\"].values))\n",
    "    for g, r in bx_ratings[[\"User-ID\", \"ISBN\", \"Book-Rating\"]].groupby(\"User-ID\")}"
   ]
  },
  {
   "cell_type": "code",
   "execution_count": 22,
   "metadata": {
    "ExecuteTime": {
     "end_time": "2018-11-10T20:50:20.227472Z",
     "start_time": "2018-11-10T20:50:18.684072Z"
    }
   },
   "outputs": [
    {
     "name": "stdout",
     "output_type": "stream",
     "text": [
      "[19 'weston, ,' 14 1]\n",
      "\t ['0553582747' 'From the Corner of His Eye' 'Dean Koontz' 2001\n",
      " 'Bantam Books' 1]\n",
      "\t ['0440223571' 'This Year It Will Be Different: And Other Stories'\n",
      " 'Maeve Binchy' 1997 'Dell' 1]\n",
      "\t ['0440225701' 'The Street Lawyer' 'JOHN GRISHAM' 1999 'Dell' 1]\n",
      "[42 'appleton, wisconsin, usa' 17 1]\n",
      "\t ['0375759778' 'Prague : A Novel' 'ARTHUR PHILLIPS' 2003\n",
      " 'Random House Trade Paperbacks' 1]\n",
      "\t ['0440223571' 'This Year It Will Be Different: And Other Stories'\n",
      " 'Maeve Binchy' 1997 'Dell' 1]\n",
      "\t ['0440225701' 'The Street Lawyer' 'JOHN GRISHAM' 1999 'Dell' 1]\n",
      "[44 'black mountain, north carolina, usa' 51 1]\n",
      "\t ['0375759778' 'Prague : A Novel' 'ARTHUR PHILLIPS' 2003\n",
      " 'Random House Trade Paperbacks' 1]\n",
      "\t ['0553582747' 'From the Corner of His Eye' 'Dean Koontz' 2001\n",
      " 'Bantam Books' 1]\n",
      "\t ['0440225701' 'The Street Lawyer' 'JOHN GRISHAM' 1999 'Dell' 1]\n",
      "[51 'renton, washington, usa' 34 1]\n",
      "\t ['0375759778' 'Prague : A Novel' 'ARTHUR PHILLIPS' 2003\n",
      " 'Random House Trade Paperbacks' 1]\n",
      "\t ['0553582747' 'From the Corner of His Eye' 'Dean Koontz' 2001\n",
      " 'Bantam Books' 1]\n",
      "\t ['0440223571' 'This Year It Will Be Different: And Other Stories'\n",
      " 'Maeve Binchy' 1997 'Dell' 1]\n",
      "[56 'cheyenne, wyoming, usa' 24 1]\n",
      "\t ['0375759778' 'Prague : A Novel' 'ARTHUR PHILLIPS' 2003\n",
      " 'Random House Trade Paperbacks' 1]\n",
      "\t ['0553582747' 'From the Corner of His Eye' 'Dean Koontz' 2001\n",
      " 'Bantam Books' 1]\n",
      "\t ['0440223571' 'This Year It Will Be Different: And Other Stories'\n",
      " 'Maeve Binchy' 1997 'Dell' 1]\n",
      "[64 'lyon, rhone, france' 32 1]\n",
      "\t ['0375759778' 'Prague : A Novel' 'ARTHUR PHILLIPS' 2003\n",
      " 'Random House Trade Paperbacks' 1]\n",
      "\t ['0553582747' 'From the Corner of His Eye' 'Dean Koontz' 2001\n",
      " 'Bantam Books' 1]\n",
      "\t ['0440223571' 'This Year It Will Be Different: And Other Stories'\n",
      " 'Maeve Binchy' 1997 'Dell' 1]\n",
      "[67 'framingham, massachusetts, usa' 43 1]\n",
      "\t ['0375759778' 'Prague : A Novel' 'ARTHUR PHILLIPS' 2003\n",
      " 'Random House Trade Paperbacks' 1]\n",
      "\t ['0553582747' 'From the Corner of His Eye' 'Dean Koontz' 2001\n",
      " 'Bantam Books' 1]\n",
      "\t ['0440223571' 'This Year It Will Be Different: And Other Stories'\n",
      " 'Maeve Binchy' 1997 'Dell' 1]\n",
      "[70 'rochester, new york, usa' 44 1]\n",
      "\t ['0375759778' 'Prague : A Novel' 'ARTHUR PHILLIPS' 2003\n",
      " 'Random House Trade Paperbacks' 1]\n",
      "\t ['0553582747' 'From the Corner of His Eye' 'Dean Koontz' 2001\n",
      " 'Bantam Books' 1]\n",
      "\t ['0440223571' 'This Year It Will Be Different: And Other Stories'\n",
      " 'Maeve Binchy' 1997 'Dell' 1]\n",
      "[75 'long beach, california, usa' 37 1]\n",
      "\t ['0375759778' 'Prague : A Novel' 'ARTHUR PHILLIPS' 2003\n",
      " 'Random House Trade Paperbacks' 1]\n",
      "\t ['0553582747' 'From the Corner of His Eye' 'Dean Koontz' 2001\n",
      " 'Bantam Books' 1]\n",
      "\t ['0440223571' 'This Year It Will Be Different: And Other Stories'\n",
      " 'Maeve Binchy' 1997 'Dell' 1]\n",
      "[78 'oakland, california, usa' 18 1]\n",
      "\t ['0375759778' 'Prague : A Novel' 'ARTHUR PHILLIPS' 2003\n",
      " 'Random House Trade Paperbacks' 1]\n",
      "\t ['0553582747' 'From the Corner of His Eye' 'Dean Koontz' 2001\n",
      " 'Bantam Books' 1]\n",
      "\t ['0440223571' 'This Year It Will Be Different: And Other Stories'\n",
      " 'Maeve Binchy' 1997 'Dell' 1]\n",
      "[85 'london, england, united kingdom' 41 1]\n",
      "\t ['0375759778' 'Prague : A Novel' 'ARTHUR PHILLIPS' 2003\n",
      " 'Random House Trade Paperbacks' 1]\n",
      "\t ['0553582747' 'From the Corner of His Eye' 'Dean Koontz' 2001\n",
      " 'Bantam Books' 1]\n",
      "\t ['0440223571' 'This Year It Will Be Different: And Other Stories'\n",
      " 'Maeve Binchy' 1997 'Dell' 1]\n",
      "[92 'castellar del valles, barcelona, spain' 20 1]\n",
      "\t ['0375759778' 'Prague : A Novel' 'ARTHUR PHILLIPS' 2003\n",
      " 'Random House Trade Paperbacks' 1]\n",
      "\t ['0553582747' 'From the Corner of His Eye' 'Dean Koontz' 2001\n",
      " 'Bantam Books' 1]\n",
      "\t ['0440223571' 'This Year It Will Be Different: And Other Stories'\n",
      " 'Maeve Binchy' 1997 'Dell' 1]\n"
     ]
    }
   ],
   "source": [
    "for i, user in enumerate(user_ratings.keys()):\n",
    "    recommendation = recommend_knn(user, user_ratings, distance=DISTANCES[\"Pearson\"], k=3)\n",
    "    print(bx_users[bx_users[\"User-ID\"]==user].iloc[0].values)\n",
    "    for isbn, score in recommendation:\n",
    "        print(\"\\t\", bx_books[bx_books[\"ISBN\"]==isbn].iloc[0].values)\n",
    "    if i > 10: # skip after 10 users\n",
    "        break"
   ]
  },
  {
   "cell_type": "markdown",
   "metadata": {},
   "source": [
    "So same method is directly applicable to real world data!"
   ]
  }
 ],
 "metadata": {
  "kernelspec": {
   "display_name": "Python 3",
   "language": "python",
   "name": "python3"
  },
  "language_info": {
   "codemirror_mode": {
    "name": "ipython",
    "version": 3
   },
   "file_extension": ".py",
   "mimetype": "text/x-python",
   "name": "python",
   "nbconvert_exporter": "python",
   "pygments_lexer": "ipython3",
   "version": "3.7.0"
  },
  "toc": {
   "base_numbering": 1,
   "nav_menu": {},
   "number_sections": true,
   "sideBar": true,
   "skip_h1_title": false,
   "title_cell": "Table of Contents",
   "title_sidebar": "Contents",
   "toc_cell": true,
   "toc_position": {},
   "toc_section_display": true,
   "toc_window_display": true
  },
  "varInspector": {
   "cols": {
    "lenName": 16,
    "lenType": 16,
    "lenVar": 40
   },
   "kernels_config": {
    "python": {
     "delete_cmd_postfix": "",
     "delete_cmd_prefix": "del ",
     "library": "var_list.py",
     "varRefreshCmd": "print(var_dic_list())"
    },
    "r": {
     "delete_cmd_postfix": ") ",
     "delete_cmd_prefix": "rm(",
     "library": "var_list.r",
     "varRefreshCmd": "cat(var_dic_list()) "
    }
   },
   "oldHeight": 931.0500000000001,
   "position": {
    "height": "255.25px",
    "left": "1345px",
    "right": "35.6px",
    "top": "77px",
    "width": "347.4px"
   },
   "types_to_exclude": [
    "module",
    "function",
    "builtin_function_or_method",
    "instance",
    "_Feature"
   ],
   "varInspector_section_display": "block",
   "window_display": false
  }
 },
 "nbformat": 4,
 "nbformat_minor": 2
}
