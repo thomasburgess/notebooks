{
 "cells": [
  {
   "cell_type": "code",
   "execution_count": 1,
   "metadata": {
    "ExecuteTime": {
     "end_time": "2017-05-13T15:30:27.986280Z",
     "start_time": "2017-05-13T15:30:27.547435Z"
    },
    "collapsed": true
   },
   "outputs": [],
   "source": [
    "%matplotlib inline "
   ]
  },
  {
   "cell_type": "code",
   "execution_count": 2,
   "metadata": {
    "ExecuteTime": {
     "end_time": "2017-05-13T15:30:28.019894Z",
     "start_time": "2017-05-13T15:30:27.987727Z"
    },
    "collapsed": true
   },
   "outputs": [],
   "source": [
    "from copy import deepcopy\n",
    "from itertools import combinations\n",
    "import numpy as np\n",
    "from matplotlib import pyplot as plt\n",
    "from mpl_toolkits.axes_grid1 import make_axes_locatable"
   ]
  },
  {
   "cell_type": "code",
   "execution_count": 3,
   "metadata": {
    "ExecuteTime": {
     "end_time": "2017-05-13T15:30:28.053404Z",
     "start_time": "2017-05-13T15:30:28.021400Z"
    },
    "collapsed": true
   },
   "outputs": [],
   "source": [
    "def plot_matrix(data, fig, ax, title):\n",
    "    \"\"\"Plot square matrix\"\"\"\n",
    "    # Make indices\n",
    "    indices = {k: i for i, k in enumerate(data)}\n",
    "    # Get matrix\n",
    "    M = jaccardi_matrix(data)\n",
    "    # Make square similarity matrix\n",
    "    M0 = np.diagflat(np.ones(len(data)))\n",
    "    for (i, j), k in M:\n",
    "        M0[indices[i], indices[j]] = k\n",
    "        M0[indices[j], indices[i]] = k\n",
    "    # Plot image\n",
    "    im = ax.imshow(M0, vmin=0, vmax=1)\n",
    "    ax.set_title(title)\n",
    "    # add color axis\n",
    "    cax = make_axes_locatable(ax).append_axes('right', size='5%', pad=0.05)\n",
    "    fig.colorbar(im, cax=cax, orientation='vertical')\n",
    "    # Use names of enties in data instead of numeric axes\n",
    "    ticks = list(range(len(data)))\n",
    "    ax.set_xticks(ticks)\n",
    "    ax.set_yticks(ticks)\n",
    "    labels = {i: k for k, i in indices.items()}\n",
    "    ax.set_xticklabels([labels[i] for i in range(len(data))])\n",
    "    ax.set_yticklabels([labels[i] for i in range(len(data))])"
   ]
  },
  {
   "cell_type": "code",
   "execution_count": 4,
   "metadata": {
    "ExecuteTime": {
     "end_time": "2017-05-13T15:30:48.170406Z",
     "start_time": "2017-05-13T15:30:48.124250Z"
    },
    "code_folding": [],
    "collapsed": true
   },
   "outputs": [],
   "source": [
    "def jaccardi(a, b):\n",
    "    \"\"\"Calculate Jaccardi similarity\n",
    "    \n",
    "    Parameters\n",
    "    ---------\n",
    "    a: set\n",
    "        set to compare\n",
    "    b: iterable\n",
    "        set to compare\n",
    "    Return\n",
    "    -----\n",
    "    float:\n",
    "        jaccardi similarity\n",
    "    \"\"\"\n",
    "    return len(a.intersection(b)) * 1.0 / len(a.union(b))\n",
    "\n",
    "\n",
    "def jaccardi_matrix(inp):\n",
    "    \"\"\"Build jaccardi matrix \n",
    "    \n",
    "    fills flattened upper triangular matrix (indices i>j)\n",
    "\n",
    "    Parameters\n",
    "    ----------\n",
    "    inp: dict(list(str), list(str))\n",
    "        Input data\n",
    "        \n",
    "    Returns:\n",
    "    list(([int], [int], float))\n",
    "        indices and distances\n",
    "    \"\"\"\n",
    "    return [((i[0], j[0]), jaccardi(i[1], j[1]))\n",
    "            for i, j in combinations(inp.items(), 2)]\n",
    "\n",
    "\n",
    "def jaccardian_cluster(inp, threshold=0.1):\n",
    "    \"\"\"Hiearchical clustering on Jaccardi similarity\n",
    "\n",
    "    Parameters\n",
    "    ----------\n",
    "    inp : list(dict(str, list(str)))\n",
    "        transmitter lists for each input file\n",
    "    threshold : float, optional\n",
    "        range[0, 1], 0 will cluster ALL data\n",
    "\n",
    "    Returns\n",
    "    -----\n",
    "    list of made links\n",
    "    dictionary of clusters\n",
    "    \"\"\"\n",
    "    clusters = deepcopy(inp)  # {k: set(v) for k,v in inp.items()}\n",
    "    links = []\n",
    "    score = 1\n",
    "    while len(clusters) > 1 and score > threshold:\n",
    "        M = jaccardi_matrix(clusters)\n",
    "        m = list(map(lambda x: x[1], M))\n",
    "        a = m.index(max(m))\n",
    "        score = M[a][1]\n",
    "        if score < threshold:\n",
    "            break\n",
    "        link = tuple([\n",
    "            y for x in M[a][0] for y in (x if isinstance(x, tuple) else (x, ))\n",
    "        ])\n",
    "        value = set()\n",
    "        for j in M[a][0]:\n",
    "            value.update(clusters[j])\n",
    "            del clusters[j]\n",
    "        links.append((link, score))\n",
    "        clusters[tuple(link)] = value\n",
    "    return links, clusters"
   ]
  },
  {
   "cell_type": "code",
   "execution_count": 5,
   "metadata": {
    "ExecuteTime": {
     "end_time": "2017-05-13T15:30:49.651517Z",
     "start_time": "2017-05-13T15:30:49.001991Z"
    }
   },
   "outputs": [
    {
     "name": "stdout",
     "output_type": "stream",
     "text": [
      "Input data {'A1': {'b', 'a', 'c'}, 'B2': {'f', 'a', 'd'}, 'C3': {'f', 'e', 'g'}, 'D4': {'x', 'm', 'q'}, 'E5': {'f', 'e', 'a', 'd'}, 'F6': {'l', 'k', 'm'}}\n",
      "Made 4 links to form 2 from 6 entries\n",
      "Links [(('B2', 'E5'), 0.75), (('C3', 'B2', 'E5'), 0.4), (('D4', 'F6'), 0.2), (('A1', 'C3', 'B2', 'E5'), 0.14285714285714285)]\n",
      "Final clusters: {('D4', 'F6'): {'m', 'k', 'l', 'x', 'q'}, ('A1', 'C3', 'B2', 'E5'): {'d', 'g', 'f', 'a', 'c', 'b', 'e'}}\n"
     ]
    },
    {
     "data": {
      "image/png": "[encoded data removed]",
      "text/plain": [
       "<matplotlib.figure.Figure at 0x1060f2550>"
      ]
     },
     "metadata": {},
     "output_type": "display_data"
    }
   ],
   "source": [
    "\"\"\"\n",
    "Simple example with 2 sets without relations (A, B, C, E) and (D, F)\n",
    "\n",
    "In real life this would correspond to recordings (A-F) each seeing different\n",
    "sets of transmitters.\n",
    "\"\"\"\n",
    "\n",
    "data = {\n",
    "    \"A1\": [\"a\", \"b\", \"c\"],\n",
    "    \"B2\": [\"a\", \"f\", \"d\"],\n",
    "    \"C3\": [\"g\", \"e\", \"f\"],\n",
    "    \"D4\": [\"m\", \"x\", \"q\"],\n",
    "    \"E5\": [\"a\", \"e\", \"d\", \"f\"],\n",
    "    \"F6\": [\"k\", \"l\", \"m\"]\n",
    "}\n",
    "# Make sets from the input lists\n",
    "data = {k: set(v) for k, v in data.items()}\n",
    "print(\"Input data {}\".format(data))\n",
    "\n",
    "# Perform clustering\n",
    "links, clusters = jaccardian_cluster(data)\n",
    "nclusters = len(clusters)\n",
    "print(\"Made {} links to form {} from {} entries\".format(\n",
    "    len(links), nclusters, len(data)))\n",
    "print(\"Links {}\".format(links))\n",
    "print(\"Final clusters: {}\".format(clusters))\n",
    "\n",
    "# Make plots\n",
    "sz = 6  # fig size multiplier\n",
    "fig, ax = plt.subplots(1, nclusters + 1, figsize=(sz * (nclusters + 1), sz))\n",
    "plot_matrix(data, fig, ax[0], title=\"{}\".format(\"ALL\"))\n",
    "for i, (k, v) in enumerate(clusters.items()):\n",
    "    subset = {ki: data[ki] for ki in k}\n",
    "    plot_matrix(subset, fig, ax[i + 1], title=\"{}\".format(k))"
   ]
  },
  {
   "cell_type": "code",
   "execution_count": null,
   "metadata": {
    "collapsed": true
   },
   "outputs": [],
   "source": []
  }
 ],
 "metadata": {
  "kernelspec": {
   "display_name": "Python 3",
   "language": "python",
   "name": "python3"
  },
  "language_info": {
   "codemirror_mode": {
    "name": "ipython",
    "version": 3
   },
   "file_extension": ".py",
   "mimetype": "text/x-python",
   "name": "python",
   "nbconvert_exporter": "python",
   "pygments_lexer": "ipython3",
   "version": "3.6.1"
  }
 },
 "nbformat": 4,
 "nbformat_minor": 2
}
