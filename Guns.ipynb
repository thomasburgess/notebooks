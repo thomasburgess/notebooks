{
 "cells": [
  {
   "cell_type": "code",
   "execution_count": 1,
   "metadata": {},
   "outputs": [],
   "source": [
    "%matplotlib inline"
   ]
  },
  {
   "cell_type": "code",
   "execution_count": 2,
   "metadata": {},
   "outputs": [],
   "source": [
    "import numpy as np\n",
    "import pandas as pd\n",
    "from IPython.display import display, HTML\n",
    "import matplotlib as mpl\n",
    "import matplotlib.pyplot as plt\n",
    "import seaborn as sns"
   ]
  },
  {
   "cell_type": "code",
   "execution_count": 3,
   "metadata": {},
   "outputs": [],
   "source": [
    "plt.style.use(\"fivethirtyeight\")"
   ]
  },
  {
   "cell_type": "code",
   "execution_count": 4,
   "metadata": {},
   "outputs": [],
   "source": [
    "def DF_DISP(df):\n",
    "    display(HTML(df.to_html()))"
   ]
  },
  {
   "cell_type": "markdown",
   "metadata": {},
   "source": [
    "## Load data gun data set\n",
    "Dataset `guns` comes from https://github.com/fivethirtyeight/guns-data. It is a processed version of CDC's [Multiple Cause of Death datafile](http://www.cdc.gov/nchs/data_access/VitalStatsOnline.htm#Mortality_Multiple) from 2013. Columns are\n",
    "\n",
    "> '', 'year', 'month', 'intent', 'police', 'sex', 'age', 'race', 'hispanic', 'place', 'education'\n",
    "\n",
    "The first row is a redundant index, and I have no idea what the hispanic number is supposed to mean, thus both are dropped. The police colum is 1 if death is described as legal intervention involving firearm discharge. Education is encoded as 1: \"Less than HS\", 2: \"HS/GED\", 3: \"Some college\", 4:\"BA+\", 5:\"N/A\".  "
   ]
  },
  {
   "cell_type": "code",
   "execution_count": 5,
   "metadata": {},
   "outputs": [],
   "source": [
    "# Read in guns data set, select usable columns\n",
    "guns = pd.read_csv(\"data/guns.csv\", usecols=[\"year\", \"month\", \"intent\", \"police\", \"sex\", \"age\", \"race\", \"place\", \"education\"])\n",
    "# Convert year, month to date time\n",
    "guns[\"date\"]=pd.to_datetime(guns[\"year\"]*100+guns[\"month\"],format='%Y%m')\n",
    "# Convert education to strings\n",
    "guns[\"education\"] = guns[\"education\"].dropna().apply(lambda x: {\n",
    "   1: \"Less than HS\", 2:\"HS/GED\", 3: \"Some college\", 4:\"BA+\", 5:\"N/A\"}[x])\n",
    "# Add a convenience column to count events\n",
    "guns[\"count\"] = 1"
   ]
  },
  {
   "cell_type": "markdown",
   "metadata": {},
   "source": [
    "## Death rate vs time\n",
    "\n",
    "First, a look of how death rate changes with time."
   ]
  },
  {
   "cell_type": "code",
   "execution_count": 6,
   "metadata": {},
   "outputs": [
    {
     "data": {
      "text/html": [
       "<table border=\"1\" class=\"dataframe\">\n",
       "  <thead>\n",
       "    <tr style=\"text-align: right;\">\n",
       "      <th></th>\n",
       "      <th>count</th>\n",
       "    </tr>\n",
       "    <tr>\n",
       "      <th>year</th>\n",
       "      <th></th>\n",
       "    </tr>\n",
       "  </thead>\n",
       "  <tbody>\n",
       "    <tr>\n",
       "      <th>2012</th>\n",
       "      <td>33563</td>\n",
       "    </tr>\n",
       "    <tr>\n",
       "      <th>2013</th>\n",
       "      <td>33636</td>\n",
       "    </tr>\n",
       "    <tr>\n",
       "      <th>2014</th>\n",
       "      <td>33599</td>\n",
       "    </tr>\n",
       "  </tbody>\n",
       "</table>"
      ],
      "text/plain": [
       "<IPython.core.display.HTML object>"
      ]
     },
     "metadata": {},
     "output_type": "display_data"
    },
    {
     "data": {
      "text/plain": [
       "<matplotlib.legend.Legend at 0x117c04fd0>"
      ]
     },
     "execution_count": 6,
     "metadata": {},
     "output_type": "execute_result"
    },
    {
     "data": {
      "image/png": "[encoded data removed]",
      "text/plain": [
       "<Figure size 1152x720 with 1 Axes>"
      ]
     },
     "metadata": {},
     "output_type": "display_data"
    }
   ],
   "source": [
    "DF_DISP(guns.groupby([\"year\"])[[\"count\"]].count())\n",
    "fig, ax = plt.subplots(figsize=(16,10))\n",
    "g = sns.countplot(x=\"month\", hue=\"year\", data=guns, ax=ax)\n",
    "ax.legend(loc=\"center left\", bbox_to_anchor=(1, 0.5))"
   ]
  },
  {
   "cell_type": "markdown",
   "metadata": {},
   "source": [
    "Seems quite similar between years, and there is a significant dip in February. Even when compensating for that February is 7% shorter than an average month the dip remains."
   ]
  },
  {
   "cell_type": "markdown",
   "metadata": {},
   "source": [
    "Still the effect remains, perhaps there is something going on. Let's see if the `intent` is different. The most important intents are Suicide and Homicide which constitue 97% of deaths. We pivot table on `count` by `month` versus `intent`, then we calculate the rank of each column, sum the ranks over each row to `rsum`, and bake everything into one table."
   ]
  },
  {
   "cell_type": "code",
   "execution_count": 7,
   "metadata": {},
   "outputs": [
    {
     "data": {
      "text/html": [
       "<table border=\"1\" class=\"dataframe\">\n",
       "  <thead>\n",
       "    <tr style=\"text-align: right;\">\n",
       "      <th>intent</th>\n",
       "      <th>Accidental</th>\n",
       "      <th>Homicide</th>\n",
       "      <th>Suicide</th>\n",
       "      <th>Undetermined</th>\n",
       "      <th>Accidental_rank</th>\n",
       "      <th>Homicide_rank</th>\n",
       "      <th>Suicide_rank</th>\n",
       "      <th>Undetermined_rank</th>\n",
       "      <th>rsum</th>\n",
       "    </tr>\n",
       "    <tr>\n",
       "      <th>month</th>\n",
       "      <th></th>\n",
       "      <th></th>\n",
       "      <th></th>\n",
       "      <th></th>\n",
       "      <th></th>\n",
       "      <th></th>\n",
       "      <th></th>\n",
       "      <th></th>\n",
       "      <th></th>\n",
       "    </tr>\n",
       "  </thead>\n",
       "  <tbody>\n",
       "    <tr>\n",
       "      <th>1</th>\n",
       "      <td>152</td>\n",
       "      <td>2829</td>\n",
       "      <td>5220</td>\n",
       "      <td>72</td>\n",
       "      <td>9.0</td>\n",
       "      <td>3.0</td>\n",
       "      <td>4.0</td>\n",
       "      <td>7.5</td>\n",
       "      <td>23.5</td>\n",
       "    </tr>\n",
       "    <tr>\n",
       "      <th>2</th>\n",
       "      <td>127</td>\n",
       "      <td>2178</td>\n",
       "      <td>4732</td>\n",
       "      <td>56</td>\n",
       "      <td>5.0</td>\n",
       "      <td>1.0</td>\n",
       "      <td>1.0</td>\n",
       "      <td>2.0</td>\n",
       "      <td>9.0</td>\n",
       "    </tr>\n",
       "    <tr>\n",
       "      <th>3</th>\n",
       "      <td>134</td>\n",
       "      <td>2780</td>\n",
       "      <td>5309</td>\n",
       "      <td>66</td>\n",
       "      <td>7.0</td>\n",
       "      <td>2.0</td>\n",
       "      <td>6.0</td>\n",
       "      <td>5.0</td>\n",
       "      <td>20.0</td>\n",
       "    </tr>\n",
       "    <tr>\n",
       "      <th>4</th>\n",
       "      <td>98</td>\n",
       "      <td>2845</td>\n",
       "      <td>5438</td>\n",
       "      <td>73</td>\n",
       "      <td>1.0</td>\n",
       "      <td>4.0</td>\n",
       "      <td>10.0</td>\n",
       "      <td>9.5</td>\n",
       "      <td>24.5</td>\n",
       "    </tr>\n",
       "    <tr>\n",
       "      <th>5</th>\n",
       "      <td>115</td>\n",
       "      <td>2976</td>\n",
       "      <td>5506</td>\n",
       "      <td>72</td>\n",
       "      <td>3.0</td>\n",
       "      <td>8.0</td>\n",
       "      <td>11.0</td>\n",
       "      <td>7.5</td>\n",
       "      <td>29.5</td>\n",
       "    </tr>\n",
       "    <tr>\n",
       "      <th>6</th>\n",
       "      <td>112</td>\n",
       "      <td>3130</td>\n",
       "      <td>5367</td>\n",
       "      <td>68</td>\n",
       "      <td>2.0</td>\n",
       "      <td>10.0</td>\n",
       "      <td>8.0</td>\n",
       "      <td>6.0</td>\n",
       "      <td>26.0</td>\n",
       "    </tr>\n",
       "    <tr>\n",
       "      <th>7</th>\n",
       "      <td>149</td>\n",
       "      <td>3269</td>\n",
       "      <td>5514</td>\n",
       "      <td>57</td>\n",
       "      <td>8.0</td>\n",
       "      <td>12.0</td>\n",
       "      <td>12.0</td>\n",
       "      <td>3.0</td>\n",
       "      <td>35.0</td>\n",
       "    </tr>\n",
       "    <tr>\n",
       "      <th>8</th>\n",
       "      <td>164</td>\n",
       "      <td>3125</td>\n",
       "      <td>5421</td>\n",
       "      <td>73</td>\n",
       "      <td>11.0</td>\n",
       "      <td>9.0</td>\n",
       "      <td>9.0</td>\n",
       "      <td>9.5</td>\n",
       "      <td>38.5</td>\n",
       "    </tr>\n",
       "    <tr>\n",
       "      <th>9</th>\n",
       "      <td>118</td>\n",
       "      <td>2966</td>\n",
       "      <td>5343</td>\n",
       "      <td>81</td>\n",
       "      <td>4.0</td>\n",
       "      <td>6.0</td>\n",
       "      <td>7.0</td>\n",
       "      <td>12.0</td>\n",
       "      <td>29.0</td>\n",
       "    </tr>\n",
       "    <tr>\n",
       "      <th>10</th>\n",
       "      <td>131</td>\n",
       "      <td>2968</td>\n",
       "      <td>5256</td>\n",
       "      <td>51</td>\n",
       "      <td>6.0</td>\n",
       "      <td>7.0</td>\n",
       "      <td>5.0</td>\n",
       "      <td>1.0</td>\n",
       "      <td>19.0</td>\n",
       "    </tr>\n",
       "    <tr>\n",
       "      <th>11</th>\n",
       "      <td>160</td>\n",
       "      <td>2919</td>\n",
       "      <td>5086</td>\n",
       "      <td>78</td>\n",
       "      <td>10.0</td>\n",
       "      <td>5.0</td>\n",
       "      <td>3.0</td>\n",
       "      <td>11.0</td>\n",
       "      <td>29.0</td>\n",
       "    </tr>\n",
       "    <tr>\n",
       "      <th>12</th>\n",
       "      <td>179</td>\n",
       "      <td>3191</td>\n",
       "      <td>4983</td>\n",
       "      <td>60</td>\n",
       "      <td>12.0</td>\n",
       "      <td>11.0</td>\n",
       "      <td>2.0</td>\n",
       "      <td>4.0</td>\n",
       "      <td>29.0</td>\n",
       "    </tr>\n",
       "  </tbody>\n",
       "</table>"
      ],
      "text/plain": [
       "<IPython.core.display.HTML object>"
      ]
     },
     "metadata": {},
     "output_type": "display_data"
    }
   ],
   "source": [
    "month_intent = pd.pivot_table(guns, values=\"count\", index=[\"month\"], columns=\"intent\", aggfunc=\"sum\")\n",
    "mirank = month_intent.rank()\n",
    "mirank[\"rsum\"] = mirank.sum(axis=1) # sum of ranks\n",
    "month_intent = month_intent.join(mirank, rsuffix=\"_rank\")\n",
    "DF_DISP(month_intent)"
   ]
  },
  {
   "cell_type": "markdown",
   "metadata": {},
   "source": [
    "So February is the lowest in the two most common intents Homicide and Suicide. Without additional data it is hard to tell why this might be."
   ]
  },
  {
   "cell_type": "markdown",
   "metadata": {},
   "source": [
    "## Male vs Female\n",
    "\n",
    "The number of deaths varies with gender, lets count per gender and compare percentages"
   ]
  },
  {
   "cell_type": "code",
   "execution_count": 8,
   "metadata": {
    "scrolled": false
   },
   "outputs": [
    {
     "data": {
      "text/html": [
       "<table border=\"1\" class=\"dataframe\">\n",
       "  <thead>\n",
       "    <tr style=\"text-align: right;\">\n",
       "      <th></th>\n",
       "      <th>sex</th>\n",
       "      <th>count</th>\n",
       "      <th>percent</th>\n",
       "    </tr>\n",
       "  </thead>\n",
       "  <tbody>\n",
       "    <tr>\n",
       "      <th>0</th>\n",
       "      <td>F</td>\n",
       "      <td>14449</td>\n",
       "      <td>14.33461</td>\n",
       "    </tr>\n",
       "    <tr>\n",
       "      <th>1</th>\n",
       "      <td>M</td>\n",
       "      <td>86349</td>\n",
       "      <td>85.66539</td>\n",
       "    </tr>\n",
       "  </tbody>\n",
       "</table>"
      ],
      "text/plain": [
       "<IPython.core.display.HTML object>"
      ]
     },
     "metadata": {},
     "output_type": "display_data"
    }
   ],
   "source": [
    "sex = guns.groupby(\"sex\", as_index=False)[[\"count\"]].count()\n",
    "sex[\"percent\"] = 100 * sex[\"count\"] / sex[\"count\"].sum()\n",
    "DF_DISP(sex)"
   ]
  },
  {
   "cell_type": "markdown",
   "metadata": {},
   "source": [
    "In general, men with 86% of deaths are 6 times likelier to die of guns than women. How  does the pattern hold if we break it down by `intent`?"
   ]
  },
  {
   "cell_type": "code",
   "execution_count": 9,
   "metadata": {},
   "outputs": [
    {
     "data": {
      "text/html": [
       "<table border=\"1\" class=\"dataframe\">\n",
       "  <thead>\n",
       "    <tr style=\"text-align: right;\">\n",
       "      <th>intent</th>\n",
       "      <th>Accidental</th>\n",
       "      <th>Homicide</th>\n",
       "      <th>Suicide</th>\n",
       "      <th>Undetermined</th>\n",
       "    </tr>\n",
       "    <tr>\n",
       "      <th>sex</th>\n",
       "      <th></th>\n",
       "      <th></th>\n",
       "      <th></th>\n",
       "      <th></th>\n",
       "    </tr>\n",
       "  </thead>\n",
       "  <tbody>\n",
       "    <tr>\n",
       "      <th>F</th>\n",
       "      <td>1.508755</td>\n",
       "      <td>37.185964</td>\n",
       "      <td>60.135650</td>\n",
       "      <td>1.169631</td>\n",
       "    </tr>\n",
       "    <tr>\n",
       "      <th>M</th>\n",
       "      <td>1.645647</td>\n",
       "      <td>34.514586</td>\n",
       "      <td>63.099746</td>\n",
       "      <td>0.738862</td>\n",
       "    </tr>\n",
       "  </tbody>\n",
       "</table>"
      ],
      "text/plain": [
       "<IPython.core.display.HTML object>"
      ]
     },
     "metadata": {},
     "output_type": "display_data"
    }
   ],
   "source": [
    "dd=pd.pivot_table(guns, values=\"count\", index=[\"sex\"], columns=\"intent\", aggfunc=\"sum\")\n",
    "# Convert to percentage of gender\n",
    "dd=pd.DataFrame(100*dd.values/sex[\"count\"].values[:, None], index=dd.index, columns=dd.columns)\n",
    "DF_DISP(dd)"
   ]
  },
  {
   "cell_type": "markdown",
   "metadata": {},
   "source": [
    "The rank order is identical, there are slightly fewer suicides and slightly more homocides in the female population. Somehow it seems men in general are just likelier to die of guns."
   ]
  },
  {
   "cell_type": "markdown",
   "metadata": {},
   "source": [
    "## Breakdown by race"
   ]
  },
  {
   "cell_type": "code",
   "execution_count": 10,
   "metadata": {},
   "outputs": [
    {
     "data": {
      "text/html": [
       "<table border=\"1\" class=\"dataframe\">\n",
       "  <thead>\n",
       "    <tr style=\"text-align: right;\">\n",
       "      <th></th>\n",
       "      <th>race</th>\n",
       "      <th>count</th>\n",
       "    </tr>\n",
       "  </thead>\n",
       "  <tbody>\n",
       "    <tr>\n",
       "      <th>0</th>\n",
       "      <td>Asian/Pacific Islander</td>\n",
       "      <td>1326</td>\n",
       "    </tr>\n",
       "    <tr>\n",
       "      <th>1</th>\n",
       "      <td>Black</td>\n",
       "      <td>23296</td>\n",
       "    </tr>\n",
       "    <tr>\n",
       "      <th>2</th>\n",
       "      <td>Hispanic</td>\n",
       "      <td>9022</td>\n",
       "    </tr>\n",
       "    <tr>\n",
       "      <th>3</th>\n",
       "      <td>Native American/Native Alaskan</td>\n",
       "      <td>917</td>\n",
       "    </tr>\n",
       "    <tr>\n",
       "      <th>4</th>\n",
       "      <td>White</td>\n",
       "      <td>66237</td>\n",
       "    </tr>\n",
       "  </tbody>\n",
       "</table>"
      ],
      "text/plain": [
       "<IPython.core.display.HTML object>"
      ]
     },
     "metadata": {},
     "output_type": "display_data"
    }
   ],
   "source": [
    "race_counts = guns.groupby(\"race\", as_index=False)[[\"count\"]].count()\n",
    "DF_DISP(race_counts)"
   ]
  },
  {
   "cell_type": "markdown",
   "metadata": {},
   "source": [
    "At first glance race White is by far the dominant vicitims. However, the population in each race is not equal! \n",
    "We import some data from the [us census](https://www.census.gov/) and convert it to the groups above."
   ]
  },
  {
   "cell_type": "code",
   "execution_count": 11,
   "metadata": {},
   "outputs": [
    {
     "data": {
      "text/html": [
       "<table border=\"1\" class=\"dataframe\">\n",
       "  <thead>\n",
       "    <tr style=\"text-align: right;\">\n",
       "      <th></th>\n",
       "      <th>Id</th>\n",
       "      <th>Year</th>\n",
       "      <th>Id.1</th>\n",
       "      <th>Sex</th>\n",
       "      <th>Id.2</th>\n",
       "      <th>Hispanic Origin</th>\n",
       "      <th>Id.3</th>\n",
       "      <th>Id2</th>\n",
       "      <th>Geography</th>\n",
       "      <th>Total</th>\n",
       "      <th>Race Alone - White</th>\n",
       "      <th>Race Alone - Hispanic</th>\n",
       "      <th>Race Alone - Black or African American</th>\n",
       "      <th>Race Alone - American Indian and Alaska Native</th>\n",
       "      <th>Race Alone - Asian</th>\n",
       "      <th>Race Alone - Native Hawaiian and Other Pacific Islander</th>\n",
       "      <th>Two or More Races</th>\n",
       "    </tr>\n",
       "  </thead>\n",
       "  <tbody>\n",
       "    <tr>\n",
       "      <th>0</th>\n",
       "      <td>cen42010</td>\n",
       "      <td>April 1, 2010 Census</td>\n",
       "      <td>totsex</td>\n",
       "      <td>Both Sexes</td>\n",
       "      <td>tothisp</td>\n",
       "      <td>Total</td>\n",
       "      <td>0100000US</td>\n",
       "      <td>NaN</td>\n",
       "      <td>United States</td>\n",
       "      <td>308745538</td>\n",
       "      <td>197318956</td>\n",
       "      <td>44618105</td>\n",
       "      <td>40250635</td>\n",
       "      <td>3739506</td>\n",
       "      <td>15159516</td>\n",
       "      <td>674625</td>\n",
       "      <td>6984195</td>\n",
       "    </tr>\n",
       "  </tbody>\n",
       "</table>"
      ],
      "text/plain": [
       "<IPython.core.display.HTML object>"
      ]
     },
     "metadata": {},
     "output_type": "display_data"
    }
   ],
   "source": [
    "#  Data from t is included.\n",
    "census = pd.read_csv(\"data/census.csv\")\n",
    "DF_DISP(census)"
   ]
  },
  {
   "cell_type": "code",
   "execution_count": 12,
   "metadata": {},
   "outputs": [],
   "source": [
    "mapping = {\n",
    "    \"Asian/Pacific Islander\": census['Race Alone - Native Hawaiian and Other Pacific Islander'].sum()+census['Race Alone - Asian'].sum(),\n",
    "    \"Hispanic\": census['Race Alone - Hispanic'].sum(),\n",
    "    'Black': census['Race Alone - Black or African American'].sum(),\n",
    "    \"White\": census['Race Alone - White'].sum(),\n",
    "    'Native American/Native Alaskan': census['Race Alone - American Indian and Alaska Native'].sum()\n",
    "}"
   ]
  },
  {
   "cell_type": "markdown",
   "metadata": {},
   "source": [
    "Now we can measure the counts per 100,000 citizens in each group:"
   ]
  },
  {
   "cell_type": "code",
   "execution_count": 13,
   "metadata": {},
   "outputs": [
    {
     "data": {
      "text/html": [
       "<table border=\"1\" class=\"dataframe\">\n",
       "  <thead>\n",
       "    <tr style=\"text-align: right;\">\n",
       "      <th></th>\n",
       "      <th>race</th>\n",
       "      <th>count</th>\n",
       "      <th>per 100k</th>\n",
       "    </tr>\n",
       "  </thead>\n",
       "  <tbody>\n",
       "    <tr>\n",
       "      <th>0</th>\n",
       "      <td>Asian/Pacific Islander</td>\n",
       "      <td>1326</td>\n",
       "      <td>8.374310</td>\n",
       "    </tr>\n",
       "    <tr>\n",
       "      <th>1</th>\n",
       "      <td>Black</td>\n",
       "      <td>23296</td>\n",
       "      <td>57.877348</td>\n",
       "    </tr>\n",
       "    <tr>\n",
       "      <th>2</th>\n",
       "      <td>Hispanic</td>\n",
       "      <td>9022</td>\n",
       "      <td>20.220491</td>\n",
       "    </tr>\n",
       "    <tr>\n",
       "      <th>3</th>\n",
       "      <td>Native American/Native Alaskan</td>\n",
       "      <td>917</td>\n",
       "      <td>24.521956</td>\n",
       "    </tr>\n",
       "    <tr>\n",
       "      <th>4</th>\n",
       "      <td>White</td>\n",
       "      <td>66237</td>\n",
       "      <td>33.568493</td>\n",
       "    </tr>\n",
       "  </tbody>\n",
       "</table>"
      ],
      "text/plain": [
       "<IPython.core.display.HTML object>"
      ]
     },
     "metadata": {},
     "output_type": "display_data"
    }
   ],
   "source": [
    "race_counts[\"per 100k\"] = race_counts.apply(lambda x: x[\"count\"]*100000/mapping[x[\"race\"]], axis=1)\n",
    "DF_DISP(race_counts)"
   ]
  },
  {
   "cell_type": "markdown",
   "metadata": {},
   "source": [
    "So when correcting for population sizes it is clear that race Black is highly overrepresented. Looking at intent,"
   ]
  },
  {
   "cell_type": "code",
   "execution_count": 14,
   "metadata": {},
   "outputs": [
    {
     "data": {
      "text/html": [
       "<table border=\"1\" class=\"dataframe\">\n",
       "  <thead>\n",
       "    <tr style=\"text-align: right;\">\n",
       "      <th>intent</th>\n",
       "      <th>Accidental</th>\n",
       "      <th>Homicide</th>\n",
       "      <th>Suicide</th>\n",
       "      <th>Undetermined</th>\n",
       "    </tr>\n",
       "    <tr>\n",
       "      <th>race</th>\n",
       "      <th></th>\n",
       "      <th></th>\n",
       "      <th></th>\n",
       "      <th></th>\n",
       "    </tr>\n",
       "  </thead>\n",
       "  <tbody>\n",
       "    <tr>\n",
       "      <th>Asian/Pacific Islander</th>\n",
       "      <td>12</td>\n",
       "      <td>559</td>\n",
       "      <td>745</td>\n",
       "      <td>10</td>\n",
       "    </tr>\n",
       "    <tr>\n",
       "      <th>Black</th>\n",
       "      <td>328</td>\n",
       "      <td>19510</td>\n",
       "      <td>3332</td>\n",
       "      <td>126</td>\n",
       "    </tr>\n",
       "    <tr>\n",
       "      <th>Hispanic</th>\n",
       "      <td>145</td>\n",
       "      <td>5634</td>\n",
       "      <td>3171</td>\n",
       "      <td>72</td>\n",
       "    </tr>\n",
       "    <tr>\n",
       "      <th>Native American/Native Alaskan</th>\n",
       "      <td>22</td>\n",
       "      <td>326</td>\n",
       "      <td>555</td>\n",
       "      <td>14</td>\n",
       "    </tr>\n",
       "    <tr>\n",
       "      <th>White</th>\n",
       "      <td>1132</td>\n",
       "      <td>9147</td>\n",
       "      <td>55372</td>\n",
       "      <td>585</td>\n",
       "    </tr>\n",
       "  </tbody>\n",
       "</table>"
      ],
      "text/plain": [
       "<IPython.core.display.HTML object>"
      ]
     },
     "metadata": {},
     "output_type": "display_data"
    }
   ],
   "source": [
    "dd=pd.pivot_table(guns, values=\"count\", index=[\"race\"], columns=\"intent\", aggfunc=\"sum\")\n",
    "DF_DISP(dd)"
   ]
  },
  {
   "cell_type": "markdown",
   "metadata": {},
   "source": [
    "We see that Blacks predominantly are killed in Homicides, where as Whites predominantly are killed in Suicides. "
   ]
  }
 ],
 "metadata": {
  "kernelspec": {
   "display_name": "Python 3",
   "language": "python",
   "name": "python3"
  },
  "language_info": {
   "codemirror_mode": {
    "name": "ipython",
    "version": 3
   },
   "file_extension": ".py",
   "mimetype": "text/x-python",
   "name": "python",
   "nbconvert_exporter": "python",
   "pygments_lexer": "ipython3",
   "version": "3.7.0"
  },
  "toc": {
   "base_numbering": 1,
   "nav_menu": {},
   "number_sections": true,
   "sideBar": true,
   "skip_h1_title": false,
   "title_cell": "Table of Contents",
   "title_sidebar": "Contents",
   "toc_cell": false,
   "toc_position": {},
   "toc_section_display": true,
   "toc_window_display": false
  }
 },
 "nbformat": 4,
 "nbformat_minor": 2
}
